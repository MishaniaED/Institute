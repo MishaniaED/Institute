{
 "cells": [
  {
   "cell_type": "markdown",
   "metadata": {},
   "source": [
    "# Очередь\n",
    "\n",
    "Операции:\n",
    "- добавить элемент\n",
    "- удалить элемент\n",
    "- показать элемент\n",
    "- вернуть размер очереди"
   ]
  },
  {
   "cell_type": "code",
   "execution_count": 2,
   "metadata": {},
   "outputs": [],
   "source": [
    "class Queue:\n",
    "    \n",
    "    def __init__(self):\n",
    "        self._elements = list()\n",
    "    \n",
    "    def push(self, element):\n",
    "        self._elements.append(element)\n",
    "    \n",
    "    def top(self):\n",
    "        return self._elements[0]\n",
    "        \n",
    "    def pop(self):\n",
    "        element = self.top()\n",
    "        del self._elements[0]\n",
    "        return element\n",
    "    \n",
    "    def size(self):\n",
    "        return len(self._elements)\n",
    "    \n",
    "    def reverse(self):\n",
    "        # нужно реализовать процедуру разворачивания очереди\n",
    "        pass"
   ]
  },
  {
   "cell_type": "code",
   "execution_count": 4,
   "metadata": {},
   "outputs": [
    {
     "name": "stdout",
     "output_type": "stream",
     "text": [
      "Queue now has 5 elements\n",
      "1\n",
      "2\n",
      "3\n",
      "4\n",
      "5\n"
     ]
    }
   ],
   "source": [
    "q = Queue()\n",
    "\n",
    "for i in range(1, 6):\n",
    "    q.push(i)\n",
    "\n",
    "print(\"Queue now has {} elements\".format(q.size()))\n",
    "\n",
    "while q.size() > 0:\n",
    "    print(q.pop())"
   ]
  },
  {
   "cell_type": "markdown",
   "metadata": {},
   "source": [
    "# Стэк\n",
    "\n",
    "Операции:\n",
    "- добавить элемент\n",
    "- удалить элемент\n",
    "- показать элемент\n",
    "- вернуть размер очереди"
   ]
  },
  {
   "cell_type": "code",
   "execution_count": 5,
   "metadata": {},
   "outputs": [],
   "source": [
    "class Stack:\n",
    "    \n",
    "    def __init__(self):\n",
    "        self._elements = list()\n",
    "    \n",
    "    def push(self, element):\n",
    "        self._elements.append(element)\n",
    "    \n",
    "    def top(self):\n",
    "        return self._elements[-1]\n",
    "        \n",
    "    def pop(self):\n",
    "        element = self.top()\n",
    "        del self._elements[-1]\n",
    "        return element\n",
    "    \n",
    "    def size(self):\n",
    "        return len(self._elements)\n",
    "    \n",
    "    def to_queue(self):\n",
    "        # нужно реализовать процедуру конвертации в очередь\n",
    "        pass"
   ]
  },
  {
   "cell_type": "code",
   "execution_count": 6,
   "metadata": {},
   "outputs": [
    {
     "name": "stdout",
     "output_type": "stream",
     "text": [
      "Stack now has 0 elements\n",
      "5\n",
      "4\n",
      "3\n",
      "2\n",
      "1\n"
     ]
    }
   ],
   "source": [
    "s = Stack()\n",
    "\n",
    "for i in range(1, 6):\n",
    "    s.push(i)\n",
    "\n",
    "print(\"Stack now has {} elements\".format(q.size()))\n",
    "\n",
    "while s.size() > 0:\n",
    "    print(s.pop())"
   ]
  },
  {
   "cell_type": "markdown",
   "metadata": {},
   "source": [
    "# Линейный список\n",
    "\n",
    "операции:\n",
    "- операция, проверяющая список на пустоту.\n",
    "- три операции добавления объекта в список (в начало, конец или внутрь после любого (n-го) элемента списка);\n",
    "- операция, вычисляющая первый (головной) элемент списка;\n",
    "- операция доступа к списку, состоящему из всех элементов исходного списка, кроме первого."
   ]
  },
  {
   "cell_type": "code",
   "execution_count": 23,
   "metadata": {},
   "outputs": [],
   "source": [
    "class LinearList:\n",
    "    \n",
    "    def __init__(self):\n",
    "        self._elements = list()\n",
    "    \n",
    "    def __str__(self):\n",
    "        return self._elements.__str__()\n",
    "        \n",
    "    def is_empty(self):\n",
    "        return len(self._elements) == 0\n",
    "    \n",
    "    def insert_after(self, element, position):\n",
    "        self._elements.insert(position + 1, element)\n",
    "    \n",
    "    def insert_head(self, element):\n",
    "        self._elements = [element] + self._elements \n",
    "        \n",
    "    def insert_tail(self, element):\n",
    "        self.insert_after(element, len(self._elements) - 1)\n",
    "        \n",
    "    def head(self):\n",
    "        return self._elements[0]\n",
    "    \n",
    "    def tail(self):\n",
    "        tail_list = LinearList()\n",
    "        tail_list._elements = self._elements[1:]\n",
    "        return tail_list\n",
    "    \n",
    "    def cut_at_position(self, position):\n",
    "        # нужно реализовать процедуру разделения списка на две (разделив по указанной позиции)\n",
    "        pass"
   ]
  },
  {
   "cell_type": "code",
   "execution_count": 22,
   "metadata": {},
   "outputs": [
    {
     "name": "stdout",
     "output_type": "stream",
     "text": [
      "True\n",
      "Current list status:  [10]\n",
      "Current list status:  [1, 10]\n",
      "Current list status:  [1, 5, 10]\n",
      "Current list status:  [1, 5, 10, 15]\n",
      "1\n",
      "[5, 10, 15]\n"
     ]
    }
   ],
   "source": [
    "l = LinearList()\n",
    "\n",
    "print(l.is_empty())\n",
    "\n",
    "l.insert_tail(10)\n",
    "print(\"Current list status: \", l)\n",
    "\n",
    "l.insert_head(1)\n",
    "print(\"Current list status: \", l)\n",
    "\n",
    "l.insert_after(5, 0)\n",
    "print(\"Current list status: \", l)\n",
    "\n",
    "l.insert_after(15, 2)\n",
    "print(\"Current list status: \", l)\n",
    "\n",
    "print(l.head())\n",
    "print(l.tail())"
   ]
  },
  {
   "cell_type": "markdown",
   "metadata": {},
   "source": [
    "# Дек\n",
    "\n",
    "Операции:\n",
    "- проверка на наличие элементов\n",
    "- операции вставки в начало/конец\n",
    "- операции удаления из начала/конца"
   ]
  },
  {
   "cell_type": "code",
   "execution_count": 29,
   "metadata": {},
   "outputs": [],
   "source": [
    "class Deque:\n",
    "    \n",
    "    def __init__(self):\n",
    "        self._elements = list()\n",
    "    \n",
    "    def __str__(self):\n",
    "        return self._elements.__str__()\n",
    "    \n",
    "    def is_empty(self):\n",
    "        return len(self._elements) == 0\n",
    "    \n",
    "    def push_back(self, element):\n",
    "        self._elements = self._elements + [element]\n",
    "    \n",
    "    def push_front(self, element):\n",
    "        self._elements = [element] + self._elements\n",
    "        \n",
    "    def pop_back(self):\n",
    "        element = self._elements[-1]\n",
    "        del self._elements[-1]\n",
    "        return element\n",
    "    \n",
    "    def pop_front(self):\n",
    "        element = self._elements[0]\n",
    "        del self._elements[0]\n",
    "        return element\n",
    "    \n",
    "    def wipe(self):\n",
    "        # удалять элементы из дека, пока не останутся 2 или 1\n",
    "        pass"
   ]
  },
  {
   "cell_type": "code",
   "execution_count": 30,
   "metadata": {},
   "outputs": [
    {
     "name": "stdout",
     "output_type": "stream",
     "text": [
      "Current deque status:  [5, 10]\n",
      "Current deque status:  [1, 5, 10, 15]\n",
      "Current deque status:  [5, 10]\n"
     ]
    }
   ],
   "source": [
    "d = Deque()\n",
    "\n",
    "d.push_front(5)\n",
    "d.push_back(10)\n",
    "\n",
    "print(\"Current deque status: \", d)\n",
    "\n",
    "d.push_front(1)\n",
    "d.push_back(15)\n",
    "\n",
    "print(\"Current deque status: \", d)\n",
    "\n",
    "d.pop_front()\n",
    "d.pop_back()\n",
    "\n",
    "print(\"Current deque status: \", d)"
   ]
  },
  {
   "cell_type": "markdown",
   "metadata": {},
   "source": [
    "# Бинарное дерево\n",
    "\n",
    "Операции:\n",
    "- добавить левое поддерево\n",
    "- добавить правое поддерево"
   ]
  },
  {
   "cell_type": "code",
   "execution_count": 42,
   "metadata": {},
   "outputs": [],
   "source": [
    "class BinaryTree:\n",
    "    \n",
    "    def __init__(self, value):\n",
    "        self.root = value\n",
    "        self.left = None\n",
    "        self.right = None\n",
    "    \n",
    "    def __str__(self):\n",
    "        if self.left is None:\n",
    "            l = None\n",
    "        else:\n",
    "            l = self.left.root\n",
    "        if self.right is None:\n",
    "            r = None\n",
    "        else:\n",
    "            r = self.right.root\n",
    "        return \"{left} <--- {root} ---> {right}\".format(left=l, root=self.root, right=r)\n",
    "    \n",
    "    def add_left(self, value):\n",
    "        self.left = BinaryTree(value)\n",
    "    \n",
    "    def add_right(self, value):\n",
    "        self.right = BinaryTree(value)\n",
    "    \n",
    "    def depth(self):\n",
    "        # посчитать глубину дерева\n",
    "        pass"
   ]
  },
  {
   "cell_type": "code",
   "execution_count": 46,
   "metadata": {},
   "outputs": [
    {
     "name": "stdout",
     "output_type": "stream",
     "text": [
      "2 <--- 1 ---> 3\n",
      "4 <--- 2 ---> None\n",
      "None <--- 3 ---> None\n"
     ]
    }
   ],
   "source": [
    "b = BinaryTree(1)\n",
    "\n",
    "b.add_left(2)\n",
    "b.add_right(3)\n",
    "\n",
    "b.left.add_left(4)\n",
    "\n",
    "print(b)\n",
    "print(b.left)\n",
    "print(b.right)"
   ]
  },
  {
   "cell_type": "code",
   "execution_count": null,
   "metadata": {},
   "outputs": [],
   "source": []
  }
 ],
 "metadata": {
  "kernelspec": {
   "display_name": "Python 3",
   "language": "python",
   "name": "python3"
  },
  "language_info": {
   "codemirror_mode": {
    "name": "ipython",
    "version": 3
   },
   "file_extension": ".py",
   "mimetype": "text/x-python",
   "name": "python",
   "nbconvert_exporter": "python",
   "pygments_lexer": "ipython3",
   "version": "3.7.7"
  }
 },
 "nbformat": 4,
 "nbformat_minor": 4
}
