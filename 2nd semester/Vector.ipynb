{
 "cells": [
  {
   "cell_type": "code",
   "execution_count": 1,
   "metadata": {},
   "outputs": [],
   "source": [
    "# https://www.anaconda.com/"
   ]
  },
  {
   "cell_type": "code",
   "execution_count": 2,
   "metadata": {},
   "outputs": [],
   "source": [
    "# Всего имеются 8 операций с векторами:\n",
    "# * создание («создать»)                                         +\n",
    "# * проверка на пустоту («пусто»)                                +\n",
    "# * взятие длины вектора («длина»)                               +\n",
    "# * взятие значение по индексу («загрузить»)                        +\n",
    "# * присваивание значения элементу по индексу («сохранить»)           +\n",
    "# * изменить длину                                              +\n",
    "# * сравнение двух векторов («равны»)                             +\n",
    "# * удаление («удалить»)                                         +"
   ]
  },
  {
   "cell_type": "code",
   "execution_count": null,
   "metadata": {},
   "outputs": [],
   "source": []
  },
  {
   "cell_type": "code",
   "execution_count": 3,
   "metadata": {},
   "outputs": [],
   "source": [
    "class Element:\n",
    "    \n",
    "    def __init__(self, value):\n",
    "        self.value = value # значение, которое хранит элемент\n",
    "        self.next_element = None # ссылка, указывающая на следующий элемент (если он есть)\n",
    "        \n",
    "    def __str__(self):\n",
    "        return ''.join(['[(', str(self.value), ') -> ', str(self.next_element), ']']) # Fix/edit print\n",
    "    \n",
    "    def __repr__(self):\n",
    "        return self.__str__()"
   ]
  },
  {
   "cell_type": "code",
   "execution_count": 4,
   "metadata": {},
   "outputs": [],
   "source": [
    "e1 = Element(1)\n",
    "e2 = Element(2)\n",
    "e3 = Element(3)"
   ]
  },
  {
   "cell_type": "code",
   "execution_count": 5,
   "metadata": {},
   "outputs": [
    {
     "data": {
      "text/plain": [
       "[(1) -> None]"
      ]
     },
     "execution_count": 5,
     "metadata": {},
     "output_type": "execute_result"
    }
   ],
   "source": [
    "e1"
   ]
  },
  {
   "cell_type": "code",
   "execution_count": 6,
   "metadata": {},
   "outputs": [
    {
     "data": {
      "text/plain": [
       "[(2) -> None]"
      ]
     },
     "execution_count": 6,
     "metadata": {},
     "output_type": "execute_result"
    }
   ],
   "source": [
    "e2"
   ]
  },
  {
   "cell_type": "code",
   "execution_count": 7,
   "metadata": {},
   "outputs": [
    {
     "data": {
      "text/plain": [
       "[(3) -> None]"
      ]
     },
     "execution_count": 7,
     "metadata": {},
     "output_type": "execute_result"
    }
   ],
   "source": [
    "e3"
   ]
  },
  {
   "cell_type": "code",
   "execution_count": null,
   "metadata": {},
   "outputs": [],
   "source": []
  },
  {
   "cell_type": "code",
   "execution_count": 8,
   "metadata": {},
   "outputs": [],
   "source": [
    "e1.next_element = e2 # элемент e1 стоит перед e2"
   ]
  },
  {
   "cell_type": "code",
   "execution_count": 9,
   "metadata": {},
   "outputs": [
    {
     "data": {
      "text/plain": [
       "[(1) -> [(2) -> None]]"
      ]
     },
     "execution_count": 9,
     "metadata": {},
     "output_type": "execute_result"
    }
   ],
   "source": [
    "e1"
   ]
  },
  {
   "cell_type": "code",
   "execution_count": 10,
   "metadata": {},
   "outputs": [],
   "source": [
    "e2.next_element = e3 # элемент e2 стоит перед e3"
   ]
  },
  {
   "cell_type": "code",
   "execution_count": 11,
   "metadata": {},
   "outputs": [
    {
     "data": {
      "text/plain": [
       "[(2) -> [(3) -> None]]"
      ]
     },
     "execution_count": 11,
     "metadata": {},
     "output_type": "execute_result"
    }
   ],
   "source": [
    "e2"
   ]
  },
  {
   "cell_type": "code",
   "execution_count": 12,
   "metadata": {},
   "outputs": [
    {
     "data": {
      "text/plain": [
       "[(1) -> [(2) -> [(3) -> None]]]"
      ]
     },
     "execution_count": 12,
     "metadata": {},
     "output_type": "execute_result"
    }
   ],
   "source": [
    "e1"
   ]
  },
  {
   "cell_type": "code",
   "execution_count": null,
   "metadata": {},
   "outputs": [],
   "source": []
  },
  {
   "cell_type": "code",
   "execution_count": null,
   "metadata": {},
   "outputs": [],
   "source": []
  },
  {
   "cell_type": "code",
   "execution_count": 13,
   "metadata": {},
   "outputs": [],
   "source": [
    "class Vector:\n",
    "    \n",
    "    def __init__(self, head_element=None): # создание («создать»)\n",
    "        self.head_element = head_element\n",
    "        pass\n",
    "    \n",
    "    def __str__(self):\n",
    "        current_element = self.head_element\n",
    "        while current_element is not None:\n",
    "            print(current_element.value)\n",
    "            current_element = current_element.next_element\n",
    "        return ''\n",
    "    \n",
    "    def is_empty(self):\n",
    "        # проверка на пустоту («пусто»)\n",
    "        return self.length() == 0\n",
    "    \n",
    "    def length(self, debug=False):\n",
    "        # взятие длины вектора («длина»)\n",
    "        current_element = self.head_element\n",
    "        current_length = 0\n",
    "        if current_element is not None and debug:\n",
    "            print(current_element)\n",
    "        while current_element is not None:\n",
    "            current_length = current_length + 1\n",
    "            current_element = current_element.next_element\n",
    "            if current_element is not None and debug:\n",
    "                print(current_element)\n",
    "        return current_length\n",
    "    \n",
    "    def element_at(self, index):\n",
    "        # взятие значение по индексу («загрузить»)\n",
    "        if index > self.length() or index < 0:\n",
    "            print(\"Некорректный индекс\")\n",
    "            return None\n",
    "        current_element = self.head_element\n",
    "        current_index = 0\n",
    "        while current_index != index:\n",
    "            current_index = current_index + 1\n",
    "            current_element = current_element.next_element\n",
    "        return current_element.value\n",
    "    \n",
    "    def assign_at(self, value, index):\n",
    "        # присваивание значения элементу по индексу («сохранить»)\n",
    "        if index > self.length() - 1:\n",
    "            self.change_length(index + 1)\n",
    "        current_element = self.head_element\n",
    "        current_index = 0\n",
    "        while current_index != index:\n",
    "            current_index = current_index + 1\n",
    "            current_element = current_element.next_element\n",
    "        current_element.value = value\n",
    "        return\n",
    "    \n",
    "    def change_length(self, length):\n",
    "        # изменить длину\n",
    "        current_lenght = self.length()\n",
    "        if current_lenght == length:\n",
    "            return\n",
    "        if current_lenght < length: # 3 -> 5\n",
    "            current_element = self.head_element\n",
    "            current_index = 0\n",
    "            while current_element.next_element is not None: # 3\n",
    "                current_element = current_element.next_element\n",
    "                current_index = current_index + 1\n",
    "            while current_index < length - 1:\n",
    "                e = Element(None)\n",
    "                current_element.next_element = e\n",
    "                current_element = e\n",
    "                current_index = current_index + 1\n",
    "            return\n",
    "        if current_lenght > length:\n",
    "            current_element = self.head_element\n",
    "            current_index = 0\n",
    "            while current_index != (length - 1):\n",
    "                current_element = current_element.next_element\n",
    "                current_index = current_index + 1\n",
    "            current_element.next_element = None\n",
    "            return\n",
    "    \n",
    "    def are_equal(self, that):\n",
    "        if self.length() != that.length():\n",
    "            return False\n",
    "        current_element_1 = self.head_element\n",
    "        current_element_2 = that.head_element\n",
    "        while current_element_1 is not None:\n",
    "            if current_element_1.value != current_element_2.value:\n",
    "                return False\n",
    "            current_element_1 = current_element_1.next_element\n",
    "            current_element_2 = current_element_2.next_element\n",
    "        return True"
   ]
  },
  {
   "cell_type": "code",
   "execution_count": 14,
   "metadata": {},
   "outputs": [],
   "source": [
    "v = Vector()"
   ]
  },
  {
   "cell_type": "code",
   "execution_count": 15,
   "metadata": {},
   "outputs": [
    {
     "data": {
      "text/plain": [
       "0"
      ]
     },
     "execution_count": 15,
     "metadata": {},
     "output_type": "execute_result"
    }
   ],
   "source": [
    "v.length()"
   ]
  },
  {
   "cell_type": "code",
   "execution_count": 16,
   "metadata": {},
   "outputs": [
    {
     "data": {
      "text/plain": [
       "<__main__.Vector at 0x10c376a10>"
      ]
     },
     "execution_count": 16,
     "metadata": {},
     "output_type": "execute_result"
    }
   ],
   "source": [
    "v"
   ]
  },
  {
   "cell_type": "code",
   "execution_count": 17,
   "metadata": {},
   "outputs": [],
   "source": [
    "# del v"
   ]
  },
  {
   "cell_type": "code",
   "execution_count": 18,
   "metadata": {},
   "outputs": [],
   "source": [
    "# v"
   ]
  },
  {
   "cell_type": "code",
   "execution_count": null,
   "metadata": {},
   "outputs": [],
   "source": []
  },
  {
   "cell_type": "code",
   "execution_count": 19,
   "metadata": {},
   "outputs": [],
   "source": [
    "v = Vector(e1)"
   ]
  },
  {
   "cell_type": "code",
   "execution_count": 20,
   "metadata": {},
   "outputs": [
    {
     "data": {
      "text/plain": [
       "[(1) -> [(2) -> [(3) -> None]]]"
      ]
     },
     "execution_count": 20,
     "metadata": {},
     "output_type": "execute_result"
    }
   ],
   "source": [
    "v.head_element"
   ]
  },
  {
   "cell_type": "code",
   "execution_count": 21,
   "metadata": {},
   "outputs": [
    {
     "name": "stdout",
     "output_type": "stream",
     "text": [
      "[(1) -> [(2) -> [(3) -> None]]]\n",
      "[(2) -> [(3) -> None]]\n",
      "[(3) -> None]\n"
     ]
    },
    {
     "data": {
      "text/plain": [
       "3"
      ]
     },
     "execution_count": 21,
     "metadata": {},
     "output_type": "execute_result"
    }
   ],
   "source": [
    "v.length(debug=True)"
   ]
  },
  {
   "cell_type": "code",
   "execution_count": 22,
   "metadata": {},
   "outputs": [
    {
     "data": {
      "text/plain": [
       "False"
      ]
     },
     "execution_count": 22,
     "metadata": {},
     "output_type": "execute_result"
    }
   ],
   "source": [
    "v.is_empty()"
   ]
  },
  {
   "cell_type": "code",
   "execution_count": 23,
   "metadata": {},
   "outputs": [
    {
     "data": {
      "text/plain": [
       "True"
      ]
     },
     "execution_count": 23,
     "metadata": {},
     "output_type": "execute_result"
    }
   ],
   "source": [
    "Vector().is_empty()"
   ]
  },
  {
   "cell_type": "code",
   "execution_count": 24,
   "metadata": {},
   "outputs": [
    {
     "data": {
      "text/plain": [
       "(1, 2, 3)"
      ]
     },
     "execution_count": 24,
     "metadata": {},
     "output_type": "execute_result"
    }
   ],
   "source": [
    "v.element_at(0), v.element_at(1), v.element_at(2)"
   ]
  },
  {
   "cell_type": "code",
   "execution_count": 25,
   "metadata": {},
   "outputs": [
    {
     "name": "stdout",
     "output_type": "stream",
     "text": [
      "Некорректный индекс\n"
     ]
    }
   ],
   "source": [
    "v.element_at(100500)"
   ]
  },
  {
   "cell_type": "code",
   "execution_count": 26,
   "metadata": {},
   "outputs": [
    {
     "name": "stdout",
     "output_type": "stream",
     "text": [
      "Некорректный индекс\n"
     ]
    }
   ],
   "source": [
    "v.element_at(-1)"
   ]
  },
  {
   "cell_type": "code",
   "execution_count": null,
   "metadata": {},
   "outputs": [],
   "source": []
  },
  {
   "cell_type": "code",
   "execution_count": 27,
   "metadata": {},
   "outputs": [
    {
     "name": "stdout",
     "output_type": "stream",
     "text": [
      "1\n",
      "2\n",
      "3\n",
      "\n"
     ]
    }
   ],
   "source": [
    "# оставляем длину такой же\n",
    "\n",
    "v.change_length(3)\n",
    "print(v)"
   ]
  },
  {
   "cell_type": "code",
   "execution_count": 28,
   "metadata": {},
   "outputs": [
    {
     "name": "stdout",
     "output_type": "stream",
     "text": [
      "1\n",
      "2\n",
      "\n"
     ]
    }
   ],
   "source": [
    "# уменьшаем длину\n",
    "\n",
    "v.change_length(2)\n",
    "print(v)"
   ]
  },
  {
   "cell_type": "code",
   "execution_count": 29,
   "metadata": {},
   "outputs": [
    {
     "name": "stdout",
     "output_type": "stream",
     "text": [
      "1\n",
      "\n"
     ]
    }
   ],
   "source": [
    "# уменьшаем длину\n",
    "\n",
    "v.change_length(1)\n",
    "print(v)"
   ]
  },
  {
   "cell_type": "code",
   "execution_count": 30,
   "metadata": {},
   "outputs": [
    {
     "name": "stdout",
     "output_type": "stream",
     "text": [
      "1\n",
      "None\n",
      "None\n",
      "\n"
     ]
    }
   ],
   "source": [
    "# увеличить длину\n",
    "\n",
    "v.change_length(3)\n",
    "print(v)"
   ]
  },
  {
   "cell_type": "code",
   "execution_count": 31,
   "metadata": {},
   "outputs": [],
   "source": [
    "v.assign_at(value=10, index=2)"
   ]
  },
  {
   "cell_type": "code",
   "execution_count": 32,
   "metadata": {},
   "outputs": [
    {
     "name": "stdout",
     "output_type": "stream",
     "text": [
      "1\n",
      "None\n",
      "10\n",
      "\n"
     ]
    }
   ],
   "source": [
    "print(v)"
   ]
  },
  {
   "cell_type": "code",
   "execution_count": 33,
   "metadata": {},
   "outputs": [],
   "source": [
    "v.assign_at(value=100, index=3)"
   ]
  },
  {
   "cell_type": "code",
   "execution_count": 34,
   "metadata": {},
   "outputs": [
    {
     "name": "stdout",
     "output_type": "stream",
     "text": [
      "1\n",
      "None\n",
      "10\n",
      "100\n",
      "\n"
     ]
    }
   ],
   "source": [
    "print(v)"
   ]
  },
  {
   "cell_type": "code",
   "execution_count": 35,
   "metadata": {},
   "outputs": [],
   "source": [
    "v.assign_at(value=100, index=5)"
   ]
  },
  {
   "cell_type": "code",
   "execution_count": 36,
   "metadata": {},
   "outputs": [
    {
     "name": "stdout",
     "output_type": "stream",
     "text": [
      "1\n",
      "None\n",
      "10\n",
      "100\n",
      "None\n",
      "100\n",
      "\n"
     ]
    }
   ],
   "source": [
    "print(v)"
   ]
  },
  {
   "cell_type": "code",
   "execution_count": 37,
   "metadata": {},
   "outputs": [
    {
     "name": "stdout",
     "output_type": "stream",
     "text": [
      "1\n",
      "None\n",
      "10\n",
      "100\n",
      "None\n",
      "100\n",
      "None\n",
      "None\n",
      "None\n",
      "100\n",
      "\n"
     ]
    }
   ],
   "source": [
    "v.assign_at(value=100, index=9)\n",
    "print(v)"
   ]
  },
  {
   "cell_type": "code",
   "execution_count": null,
   "metadata": {},
   "outputs": [],
   "source": []
  },
  {
   "cell_type": "code",
   "execution_count": 38,
   "metadata": {},
   "outputs": [],
   "source": [
    "e1 = Element(1)\n",
    "e2 = Element(2)\n",
    "e1.next_element = e2"
   ]
  },
  {
   "cell_type": "code",
   "execution_count": 39,
   "metadata": {},
   "outputs": [],
   "source": [
    "d1 = Element(1)\n",
    "d2 = Element(2)\n",
    "d1.next_element = d2"
   ]
  },
  {
   "cell_type": "code",
   "execution_count": 40,
   "metadata": {},
   "outputs": [],
   "source": [
    "f1 = Element(1)\n",
    "f2 = Element(1)\n",
    "f1.next_element = f2"
   ]
  },
  {
   "cell_type": "code",
   "execution_count": 41,
   "metadata": {},
   "outputs": [
    {
     "data": {
      "text/plain": [
       "True"
      ]
     },
     "execution_count": 41,
     "metadata": {},
     "output_type": "execute_result"
    }
   ],
   "source": [
    "Vector(e1).are_equal(Vector(d1))"
   ]
  },
  {
   "cell_type": "code",
   "execution_count": 42,
   "metadata": {},
   "outputs": [
    {
     "data": {
      "text/plain": [
       "False"
      ]
     },
     "execution_count": 42,
     "metadata": {},
     "output_type": "execute_result"
    }
   ],
   "source": [
    "Vector(e1).are_equal(Vector(d2)) # длина 2го вектора меньше длины вектора 1"
   ]
  },
  {
   "cell_type": "code",
   "execution_count": 43,
   "metadata": {},
   "outputs": [
    {
     "data": {
      "text/plain": [
       "False"
      ]
     },
     "execution_count": 43,
     "metadata": {},
     "output_type": "execute_result"
    }
   ],
   "source": [
    "Vector(e1).are_equal(Vector(f1))"
   ]
  },
  {
   "cell_type": "code",
   "execution_count": null,
   "metadata": {},
   "outputs": [],
   "source": []
  },
  {
   "cell_type": "code",
   "execution_count": null,
   "metadata": {},
   "outputs": [],
   "source": []
  },
  {
   "cell_type": "code",
   "execution_count": null,
   "metadata": {},
   "outputs": [],
   "source": []
  },
  {
   "cell_type": "code",
   "execution_count": null,
   "metadata": {},
   "outputs": [],
   "source": []
  }
 ],
 "metadata": {
  "kernelspec": {
   "display_name": "Python 3",
   "language": "python",
   "name": "python3"
  },
  "language_info": {
   "codemirror_mode": {
    "name": "ipython",
    "version": 3
   },
   "file_extension": ".py",
   "mimetype": "text/x-python",
   "name": "python",
   "nbconvert_exporter": "python",
   "pygments_lexer": "ipython3",
   "version": "3.7.5"
  }
 },
 "nbformat": 4,
 "nbformat_minor": 4
}
