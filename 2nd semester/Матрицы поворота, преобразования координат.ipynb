{
 "cells": [
  {
   "cell_type": "markdown",
   "metadata": {},
   "source": [
    "В текущем примере хотелось бы сделать небольшое введение в возможности SageMath по работе с формулами.<br>\n",
    "Задание заключается в следующем:<br>\n",
    "Вывести формулу для движения спутника (далее ИСЗ - искусственный спутник Земли) в невращающейся системе координат с центром в центре Земли (далее - геостац. СК или geostat).<br>\n",
    "Орбита эллиптическая, точка отсчета для орбитальной СК находится в фокусе. В этом же фокусе находится и центр Земли.\n",
    "Плоскость орбиты относительно плоскости эклиптики повернута на три угла: psi, theta, phi.<br>\n",
    "Параметры орбиты (эллипса):<br>\n",
    "a - большая полуось<br>\n",
    "e - эксцентриситет.<br>\n",
    "Для e главное не забывать, что есть математическая константа e и их можно перепутать (например, просто забыв объявить переменную e - будет везде использоваться числовое значение мат. константы e и результат не будет достигнут)."
   ]
  },
  {
   "cell_type": "markdown",
   "metadata": {},
   "source": [
    "Первый шаг получения формулы - получить координаты ИСЗ в орбитальной системе координат.<br>\n",
    "Движение идет постоянно в плоскости орбиты, потому z == 0. <br>\n",
    "x и y задаются стандартным параметрическим уравнением эллипса:<br>\n",
    "$x = a * cos(t)$<br>\n",
    "$y = b * sin(t)$\n",
    "<br>\n",
    "b - это малая полуось эллипса. Через эксцентриситет и большую полуось выражается формулой:<br>\n",
    "$a*\\sqrt{1 - e^2}$<br>\n",
    "Сказано, что точка отсчета смещена в фокус. Это даёт смещение по оси X на $a*e$"
   ]
  },
  {
   "cell_type": "markdown",
   "metadata": {},
   "source": [
    "Итого, получим:"
   ]
  },
  {
   "cell_type": "code",
   "execution_count": 1,
   "metadata": {},
   "outputs": [],
   "source": [
    "def satellite_pos_orbital_crd(_orbit_a, _orbit_e, _Xi):\n",
    "    x = _orbit_a*(cos(_Xi) - _orbit_e)\n",
    "    y = _orbit_a*sqrt(1 - _orbit_e**2)*sin(_Xi)\n",
    "    z = 0\n",
    "    \n",
    "    return [x, y, z]"
   ]
  },
  {
   "cell_type": "markdown",
   "metadata": {},
   "source": [
    "Теперь нужно из орбитальной СК перевести в геостац. СК.<br>\n",
    "Для этого воспользуемся матрицами поворота:"
   ]
  },
  {
   "cell_type": "code",
   "execution_count": 2,
   "metadata": {},
   "outputs": [],
   "source": [
    "def rot_mat(axis, angle):\n",
    "    if axis == 'x':\n",
    "        return Matrix([[1, 0, 0], [0, cos(angle), sin(angle)], [0, -sin(angle), cos(angle)]])\n",
    "    if axis == 'y':\n",
    "        return Matrix([[cos(angle), 0, sin(angle)], [0, 1, 0],  [-sin(angle), 0, cos(angle)]])\n",
    "    if axis == 'z':\n",
    "        return Matrix([[cos(angle), sin(angle), 0], [-sin(angle), cos(angle), 0], [0, 0, 1]])\n",
    "    return Matrix([])"
   ]
  },
  {
   "cell_type": "code",
   "execution_count": 3,
   "metadata": {},
   "outputs": [],
   "source": [
    "def from_orbit_to_geostat_crd_mat(_orbit_crd):\n",
    "    crd = Matrix(_orbit_crd)\n",
    "    rot_z_1 =rot_mat('z', psi)\n",
    "    rot_x = rot_mat('x', theta)\n",
    "    rot_z_2 = rot_mat('z', phi)\n",
    "    \n",
    "    crd = crd * (rot_z_1 * rot_x * rot_z_2)\n",
    "    \n",
    "    return crd"
   ]
  },
  {
   "cell_type": "markdown",
   "metadata": {},
   "source": [
    "Посмотрим промежуточный вид конечной формулы:"
   ]
  },
  {
   "cell_type": "code",
   "execution_count": 4,
   "metadata": {},
   "outputs": [
    {
     "ename": "NameError",
     "evalue": "name 'var' is not defined",
     "output_type": "error",
     "traceback": [
      "\u001b[1;31m---------------------------------------------------------------------------\u001b[0m",
      "\u001b[1;31mNameError\u001b[0m                                 Traceback (most recent call last)",
      "\u001b[1;32m<ipython-input-4-7fb1674e0260>\u001b[0m in \u001b[0;36m<module>\u001b[1;34m\u001b[0m\n\u001b[1;32m----> 1\u001b[1;33m \u001b[0mvar\u001b[0m\u001b[1;33m(\u001b[0m\u001b[1;34m\"a e_orb t\"\u001b[0m\u001b[1;33m)\u001b[0m  \u001b[1;31m# создание символьных переменных\u001b[0m\u001b[1;33m\u001b[0m\u001b[1;33m\u001b[0m\u001b[0m\n\u001b[0m\u001b[0;32m      2\u001b[0m \u001b[0mcrd_orbital\u001b[0m \u001b[1;33m=\u001b[0m \u001b[0msatellite_pos_orbital_crd\u001b[0m\u001b[1;33m(\u001b[0m\u001b[0m_orbit_a\u001b[0m\u001b[1;33m=\u001b[0m\u001b[0ma\u001b[0m\u001b[1;33m,\u001b[0m \u001b[0m_orbit_e\u001b[0m\u001b[1;33m=\u001b[0m\u001b[0me_orb\u001b[0m\u001b[1;33m,\u001b[0m \u001b[0m_Xi\u001b[0m\u001b[1;33m=\u001b[0m\u001b[0mt\u001b[0m\u001b[1;33m)\u001b[0m\u001b[1;33m\u001b[0m\u001b[1;33m\u001b[0m\u001b[0m\n\u001b[0;32m      3\u001b[0m \u001b[0mprint\u001b[0m\u001b[1;33m(\u001b[0m\u001b[1;34m\"Орбитальные координаты в момент времени t:\"\u001b[0m\u001b[1;33m)\u001b[0m\u001b[1;33m\u001b[0m\u001b[1;33m\u001b[0m\u001b[0m\n\u001b[0;32m      4\u001b[0m \u001b[0mshow\u001b[0m\u001b[1;33m(\u001b[0m\u001b[0mcrd_orbital\u001b[0m\u001b[1;33m[\u001b[0m\u001b[1;36m0\u001b[0m\u001b[1;33m]\u001b[0m\u001b[1;33m)\u001b[0m\u001b[1;33m\u001b[0m\u001b[1;33m\u001b[0m\u001b[0m\n\u001b[0;32m      5\u001b[0m \u001b[0mshow\u001b[0m\u001b[1;33m(\u001b[0m\u001b[0mcrd_orbital\u001b[0m\u001b[1;33m[\u001b[0m\u001b[1;36m1\u001b[0m\u001b[1;33m]\u001b[0m\u001b[1;33m)\u001b[0m\u001b[1;33m\u001b[0m\u001b[1;33m\u001b[0m\u001b[0m\n",
      "\u001b[1;31mNameError\u001b[0m: name 'var' is not defined"
     ]
    }
   ],
   "source": [
    "var(\"a e_orb t\")  # создание символьных переменных\n",
    "crd_orbital = satellite_pos_orbital_crd(_orbit_a=a, _orbit_e=e_orb, _Xi=t)\n",
    "print(\"Орбитальные координаты в момент времени t:\")\n",
    "show(crd_orbital[0])\n",
    "show(crd_orbital[1])\n",
    "show(crd_orbital[2])"
   ]
  },
  {
   "cell_type": "code",
   "execution_count": 5,
   "metadata": {},
   "outputs": [
    {
     "ename": "NameError",
     "evalue": "name 'var' is not defined",
     "output_type": "error",
     "traceback": [
      "\u001b[1;31m---------------------------------------------------------------------------\u001b[0m",
      "\u001b[1;31mNameError\u001b[0m                                 Traceback (most recent call last)",
      "\u001b[1;32m<ipython-input-5-623b9f582d17>\u001b[0m in \u001b[0;36m<module>\u001b[1;34m\u001b[0m\n\u001b[1;32m----> 1\u001b[1;33m \u001b[0mvar\u001b[0m\u001b[1;33m(\u001b[0m\u001b[1;34m\"psi theta phi\"\u001b[0m\u001b[1;33m)\u001b[0m\u001b[1;33m\u001b[0m\u001b[1;33m\u001b[0m\u001b[0m\n\u001b[0m\u001b[0;32m      2\u001b[0m \u001b[0mcrd_geostat\u001b[0m \u001b[1;33m=\u001b[0m \u001b[0mfrom_orbit_to_geostat_crd_mat\u001b[0m\u001b[1;33m(\u001b[0m\u001b[0mcrd_orbital\u001b[0m\u001b[1;33m)\u001b[0m\u001b[1;33m[\u001b[0m\u001b[1;36m0\u001b[0m\u001b[1;33m]\u001b[0m\u001b[1;33m\u001b[0m\u001b[1;33m\u001b[0m\u001b[0m\n\u001b[0;32m      3\u001b[0m \u001b[0mprint\u001b[0m\u001b[1;33m(\u001b[0m\u001b[1;34m\"Геостац. координаты ИСЗ в момент времени t:\"\u001b[0m\u001b[1;33m)\u001b[0m\u001b[1;33m\u001b[0m\u001b[1;33m\u001b[0m\u001b[0m\n\u001b[0;32m      4\u001b[0m \u001b[0mshow\u001b[0m\u001b[1;33m(\u001b[0m\u001b[0mcrd_geostat\u001b[0m\u001b[1;33m[\u001b[0m\u001b[1;36m0\u001b[0m\u001b[1;33m]\u001b[0m\u001b[1;33m)\u001b[0m\u001b[1;33m\u001b[0m\u001b[1;33m\u001b[0m\u001b[0m\n\u001b[0;32m      5\u001b[0m \u001b[0mshow\u001b[0m\u001b[1;33m(\u001b[0m\u001b[0mcrd_geostat\u001b[0m\u001b[1;33m[\u001b[0m\u001b[1;36m1\u001b[0m\u001b[1;33m]\u001b[0m\u001b[1;33m)\u001b[0m\u001b[1;33m\u001b[0m\u001b[1;33m\u001b[0m\u001b[0m\n",
      "\u001b[1;31mNameError\u001b[0m: name 'var' is not defined"
     ]
    }
   ],
   "source": [
    "var(\"psi theta phi\")\n",
    "crd_geostat = from_orbit_to_geostat_crd_mat(crd_orbital)[0]\n",
    "print(\"Геостац. координаты ИСЗ в момент времени t:\")\n",
    "show(crd_geostat[0])\n",
    "show(crd_geostat[1])\n",
    "show(crd_geostat[2])"
   ]
  },
  {
   "cell_type": "markdown",
   "metadata": {},
   "source": [
    "Формула готова, но её еще нужно упростить и сгруппировать"
   ]
  },
  {
   "cell_type": "code",
   "execution_count": 6,
   "metadata": {},
   "outputs": [
    {
     "name": "stdout",
     "output_type": "stream",
     "text": [
      "Автоматическое упрощение:\n"
     ]
    },
    {
     "ename": "NameError",
     "evalue": "name 'show' is not defined",
     "output_type": "error",
     "traceback": [
      "\u001b[1;31m---------------------------------------------------------------------------\u001b[0m",
      "\u001b[1;31mNameError\u001b[0m                                 Traceback (most recent call last)",
      "\u001b[1;32m<ipython-input-6-6e2560c330fa>\u001b[0m in \u001b[0;36m<module>\u001b[1;34m\u001b[0m\n\u001b[0;32m      1\u001b[0m \u001b[0mprint\u001b[0m\u001b[1;33m(\u001b[0m\u001b[1;34m\"Автоматическое упрощение:\"\u001b[0m\u001b[1;33m)\u001b[0m\u001b[1;33m\u001b[0m\u001b[1;33m\u001b[0m\u001b[0m\n\u001b[1;32m----> 2\u001b[1;33m \u001b[0mshow\u001b[0m\u001b[1;33m(\u001b[0m\u001b[0mcrd_geostat\u001b[0m\u001b[1;33m[\u001b[0m\u001b[1;36m0\u001b[0m\u001b[1;33m]\u001b[0m\u001b[1;33m.\u001b[0m\u001b[0msimplify_trig\u001b[0m\u001b[1;33m(\u001b[0m\u001b[1;33m)\u001b[0m\u001b[1;33m)\u001b[0m\u001b[1;33m\u001b[0m\u001b[1;33m\u001b[0m\u001b[0m\n\u001b[0m\u001b[0;32m      3\u001b[0m \u001b[0mshow\u001b[0m\u001b[1;33m(\u001b[0m\u001b[0mcrd_geostat\u001b[0m\u001b[1;33m[\u001b[0m\u001b[1;36m1\u001b[0m\u001b[1;33m]\u001b[0m\u001b[1;33m.\u001b[0m\u001b[0msimplify_trig\u001b[0m\u001b[1;33m(\u001b[0m\u001b[1;33m)\u001b[0m\u001b[1;33m)\u001b[0m\u001b[1;33m\u001b[0m\u001b[1;33m\u001b[0m\u001b[0m\n\u001b[0;32m      4\u001b[0m \u001b[0mshow\u001b[0m\u001b[1;33m(\u001b[0m\u001b[0mcrd_geostat\u001b[0m\u001b[1;33m[\u001b[0m\u001b[1;36m2\u001b[0m\u001b[1;33m]\u001b[0m\u001b[1;33m.\u001b[0m\u001b[0msimplify_trig\u001b[0m\u001b[1;33m(\u001b[0m\u001b[1;33m)\u001b[0m\u001b[1;33m)\u001b[0m\u001b[1;33m\u001b[0m\u001b[1;33m\u001b[0m\u001b[0m\n",
      "\u001b[1;31mNameError\u001b[0m: name 'show' is not defined"
     ]
    }
   ],
   "source": [
    "print(\"Автоматическое упрощение:\")\n",
    "show(crd_geostat[0].simplify_trig())\n",
    "show(crd_geostat[1].simplify_trig())\n",
    "show(crd_geostat[2].simplify_trig())"
   ]
  },
  {
   "cell_type": "markdown",
   "metadata": {},
   "source": [
    "Результат не самый оптимальный в текущем случае, потому придется доработать вручную:"
   ]
  },
  {
   "cell_type": "code",
   "execution_count": 7,
   "metadata": {},
   "outputs": [],
   "source": [
    "def from_orbit_to_geostat_crd(_orbit_crd):\n",
    "    crd = Matrix(_orbit_crd)\n",
    "    x = crd[0][0]\n",
    "    y = crd[0][1]\n",
    "    z = crd[0][2]\n",
    "    \n",
    "    X =\\\n",
    "            - x\\\n",
    "                *(\n",
    "                        cos(theta)*sin(phi)*sin(psi) \n",
    "                    -\tcos(phi)*cos(psi)\n",
    "                )\\\n",
    "            - y\\\n",
    "                *(\n",
    "                        cos(psi)*cos(theta)*sin(phi) \n",
    "                    +\tcos(phi)*sin(psi)\n",
    "                )\\\n",
    "            + z*sin(phi)*sin(theta)\n",
    "\n",
    "\n",
    "    Y = \\\n",
    "         \tx\\\n",
    "            *(\n",
    "                    cos(phi)*cos(theta)*sin(psi) \\\n",
    "                +\tcos(psi)*sin(phi)\n",
    "            )\\\n",
    "        +\ty\\\n",
    "            *(\n",
    "                    cos(phi)*cos(psi)*cos(theta) \\\n",
    "                -\tsin(phi)*sin(psi)\n",
    "            )\\\n",
    "        -\tz*cos(phi)*sin(theta) \n",
    "\n",
    "    Z = \t(\\\n",
    "                    x*sin(psi)\\\n",
    "                +\ty*cos(psi)\n",
    "            )*sin(theta)\\\n",
    "        +\tz*cos(theta)\n",
    "        \n",
    "    return [X, Y, Z]"
   ]
  },
  {
   "cell_type": "code",
   "execution_count": 8,
   "metadata": {},
   "outputs": [],
   "source": [
    "def satellite_pos_geostat_crd():    \n",
    "    x = \\\n",
    "        - a\t*sqrt(1 - e_orb**2)*sin(Xi)\\\n",
    "            *(\n",
    "                    cos(psi)*cos(theta)*sin(phi)\\\n",
    "                +\tcos(phi)*sin(psi)\n",
    "             )\\\n",
    "        + a\t*(cos(Xi) - e_orb)\\\n",
    "            *(\n",
    "                -\tcos(theta)*sin(phi)*sin(psi)\\\n",
    "                +\tcos(phi)*cos(psi)\n",
    "            )\n",
    "\n",
    "    y = \\\n",
    "            a\t*sqrt(1 - e_orb**2)*sin(Xi)\\\n",
    "                *(\n",
    "                        cos(phi)*cos(psi)*cos(theta)\\\n",
    "                    - \tsin(phi)*sin(psi)\n",
    "                )\\\n",
    "            + a\t*(cos(Xi) - e_orb)\\\n",
    "                *(\n",
    "                        cos(phi)*cos(theta)*sin(psi)\\\n",
    "                    +\tcos(psi)*sin(phi)\n",
    "                )\n",
    "\n",
    "    z = \\\n",
    "            a\t*sin(theta)\\\n",
    "                *(\\\n",
    "                        sqrt(1 - e_orb**2)*cos(psi)*sin(Xi)\\\n",
    "                    + \t(cos(Xi) - e_orb)*sin(psi)\\\n",
    "                )\n",
    "        \n",
    "    return [x, y, z]"
   ]
  },
  {
   "cell_type": "markdown",
   "metadata": {},
   "source": [
    "Теперь необходимо удостовериться, что при упрощении вручную ничего не потерялось и формула корректна."
   ]
  },
  {
   "cell_type": "code",
   "execution_count": 9,
   "metadata": {},
   "outputs": [
    {
     "ename": "NameError",
     "evalue": "name 't' is not defined",
     "output_type": "error",
     "traceback": [
      "\u001b[1;31m---------------------------------------------------------------------------\u001b[0m",
      "\u001b[1;31mNameError\u001b[0m                                 Traceback (most recent call last)",
      "\u001b[1;32m<ipython-input-9-176e8371818c>\u001b[0m in \u001b[0;36m<module>\u001b[1;34m\u001b[0m\n\u001b[0;32m      1\u001b[0m \u001b[1;31m# Текущая формула берет символьные переменные из глобальной области видимости\u001b[0m\u001b[1;33m\u001b[0m\u001b[1;33m\u001b[0m\u001b[1;33m\u001b[0m\u001b[0m\n\u001b[0;32m      2\u001b[0m \u001b[1;31m# потому придется сделать так:\u001b[0m\u001b[1;33m\u001b[0m\u001b[1;33m\u001b[0m\u001b[1;33m\u001b[0m\u001b[0m\n\u001b[1;32m----> 3\u001b[1;33m \u001b[0mXi\u001b[0m \u001b[1;33m=\u001b[0m \u001b[0mt\u001b[0m\u001b[1;33m\u001b[0m\u001b[1;33m\u001b[0m\u001b[0m\n\u001b[0m\u001b[0;32m      4\u001b[0m \u001b[1;31m# теперь получим координаты:\u001b[0m\u001b[1;33m\u001b[0m\u001b[1;33m\u001b[0m\u001b[1;33m\u001b[0m\u001b[0m\n\u001b[0;32m      5\u001b[0m \u001b[0mcrd_geostat2\u001b[0m \u001b[1;33m=\u001b[0m \u001b[0msatellite_pos_geostat_crd\u001b[0m\u001b[1;33m(\u001b[0m\u001b[1;33m)\u001b[0m\u001b[1;33m\u001b[0m\u001b[1;33m\u001b[0m\u001b[0m\n",
      "\u001b[1;31mNameError\u001b[0m: name 't' is not defined"
     ]
    }
   ],
   "source": [
    "# Текущая формула берет символьные переменные из глобальной области видимости\n",
    "# потому придется сделать так:\n",
    "Xi = t\n",
    "# теперь получим координаты:\n",
    "crd_geostat2 = satellite_pos_geostat_crd()\n",
    "for i in range(0, 3):\n",
    "    show(crd_geostat2[i])"
   ]
  },
  {
   "cell_type": "markdown",
   "metadata": {},
   "source": [
    "<h1>Сверим формулы:</h1>"
   ]
  },
  {
   "cell_type": "code",
   "execution_count": 10,
   "metadata": {},
   "outputs": [
    {
     "ename": "NameError",
     "evalue": "name 'show' is not defined",
     "output_type": "error",
     "traceback": [
      "\u001b[1;31m---------------------------------------------------------------------------\u001b[0m",
      "\u001b[1;31mNameError\u001b[0m                                 Traceback (most recent call last)",
      "\u001b[1;32m<ipython-input-10-048de090c842>\u001b[0m in \u001b[0;36m<module>\u001b[1;34m\u001b[0m\n\u001b[0;32m      1\u001b[0m \u001b[1;32mfor\u001b[0m \u001b[0mi\u001b[0m \u001b[1;32min\u001b[0m \u001b[0mrange\u001b[0m\u001b[1;33m(\u001b[0m\u001b[1;36m0\u001b[0m\u001b[1;33m,\u001b[0m \u001b[1;36m3\u001b[0m\u001b[1;33m)\u001b[0m\u001b[1;33m:\u001b[0m\u001b[1;33m\u001b[0m\u001b[1;33m\u001b[0m\u001b[0m\n\u001b[1;32m----> 2\u001b[1;33m     \u001b[0mshow\u001b[0m\u001b[1;33m(\u001b[0m\u001b[1;33m(\u001b[0m\u001b[0mcrd_geostat2\u001b[0m\u001b[1;33m[\u001b[0m\u001b[0mi\u001b[0m\u001b[1;33m]\u001b[0m \u001b[1;33m-\u001b[0m \u001b[0mcrd_geostat\u001b[0m\u001b[1;33m[\u001b[0m\u001b[0mi\u001b[0m\u001b[1;33m]\u001b[0m\u001b[1;33m)\u001b[0m\u001b[1;33m.\u001b[0m\u001b[0msimplify_trig\u001b[0m\u001b[1;33m(\u001b[0m\u001b[1;33m)\u001b[0m\u001b[1;33m)\u001b[0m\u001b[1;33m\u001b[0m\u001b[1;33m\u001b[0m\u001b[0m\n\u001b[0m",
      "\u001b[1;31mNameError\u001b[0m: name 'show' is not defined"
     ]
    }
   ],
   "source": [
    "for i in range(0, 3):\n",
    "    show((crd_geostat2[i] - crd_geostat[i]).simplify_trig())"
   ]
  },
  {
   "cell_type": "markdown",
   "metadata": {},
   "source": [
    "Следовательно в формуле ошибки нет и можно пользоваться satellite_pos_geostat_crd"
   ]
  },
  {
   "cell_type": "code",
   "execution_count": null,
   "metadata": {},
   "outputs": [],
   "source": []
  }
 ],
 "metadata": {
  "kernelspec": {
   "display_name": "Python 3",
   "language": "python",
   "name": "python3"
  },
  "language_info": {
   "codemirror_mode": {
    "name": "ipython",
    "version": 3
   },
   "file_extension": ".py",
   "mimetype": "text/x-python",
   "name": "python",
   "nbconvert_exporter": "python",
   "pygments_lexer": "ipython3",
   "version": "3.7.6"
  }
 },
 "nbformat": 4,
 "nbformat_minor": 2
}
