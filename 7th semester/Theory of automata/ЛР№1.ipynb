{
  "nbformat": 4,
  "nbformat_minor": 0,
  "metadata": {
    "colab": {
      "provenance": []
    },
    "kernelspec": {
      "name": "python3",
      "display_name": "Python 3"
    },
    "language_info": {
      "name": "python"
    }
  },
  "cells": [
    {
      "cell_type": "markdown",
      "source": [
        "Вариант №4\n",
        "L(G) = {wcwcw | w∈{a, b}+}"
      ],
      "metadata": {
        "id": "_2dMtXJB_CFM"
      }
    },
    {
      "cell_type": "markdown",
      "source": [
        "Задание №1\n",
        "\n",
        "составить грамматику, порождающую формальный язык, заданный в соответствии с вариантом;\n",
        "\n",
        "S -> ZaAAcc|ZbBBcc\n",
        "\n",
        "Z -> ZaAA|ZbBB|ε\n",
        "\n",
        "AAa -> aAA\n",
        "\n",
        "BBa -> aBB\n",
        "\n",
        "AAb -> bAA\n",
        "\n",
        "BBb -> bBB\n",
        "\n",
        "AAc -> caG\n",
        "\n",
        "BBc -> cbJ\n",
        "\n",
        "Ga -> aG\n",
        "\n",
        "Ja -> aJ\n",
        "\n",
        "Gb -> bG\n",
        "\n",
        "Jb -> bJ\n",
        "\n",
        "Gc -> ca\n",
        "\n",
        "Jc -> cb"
      ],
      "metadata": {
        "id": "T-XXi7g5IPMD"
      }
    },
    {
      "cell_type": "markdown",
      "source": [
        "Задание №2\n",
        "\n",
        " определить тип формальной грамматики и языка по классификации\n",
        "Хомского;\n",
        "\n",
        "Тип грамматики: Тип-0."
      ],
      "metadata": {
        "id": "8xUQg8LGISzx"
      }
    },
    {
      "cell_type": "markdown",
      "source": [
        "Задание №3\n",
        "\n",
        "разработать программное средство, распознающее тип введенной пользователем грамматики по классификации Хомского."
      ],
      "metadata": {
        "id": "zGm0kXhJITZB"
      }
    },
    {
      "cell_type": "code",
      "source": [
        "import re\n",
        "def isCapital(part):\n",
        "  if re.search(\"\\w\\|[A-Z][a-z]\", part) or re.search(\"[A-Z][a-z]\\|\\w\", part):\n",
        "    return 3\n",
        "  if re.search(\"\\w\\|[a-z][A-Z]\", part) or re.search(\"[a-z][A-Z]\\|\\w\", part):\n",
        "    return 2\n",
        "  if not re.search(\"[a-z0-9]\", part):\n",
        "    return 1\n",
        "  return 0\n",
        "\n",
        "grammar=input(\"Enter grammar: \")\n",
        "grammar_type, grammar_subtype=3, 2\n",
        "\n",
        "left_part, right_part=\"\", \"\"\n",
        "switched=0\n",
        "rule_count=0\n",
        "\n",
        "for c in grammar:\n",
        "  if c==\" \":\n",
        "    rule_count+=1\n",
        "    if grammar_type==3:\n",
        "      if grammar_subtype==2 and isCapital(right_part)==2:\n",
        "        if rule_count==1:\n",
        "          grammar_subtype-=1\n",
        "        else:\n",
        "          grammar_type-=1\n",
        "      if not (isCapital(left_part)==1 and isCapital(right_part)==3):\n",
        "        grammar_type=2\n",
        "        grammar_subtype=0\n",
        "    if grammar_type==2:\n",
        "      if not isCapital(left_part)==1:\n",
        "        grammar_type=1\n",
        "    if grammar_type==1:\n",
        "      if left_part>right_part:\n",
        "        grammar_type=0\n",
        "        break\n",
        "    switched=0\n",
        "    left_part=\"\"\n",
        "    right_part=\"\"\n",
        "    continue\n",
        "\n",
        "  if c==\"-\" or c==\">\":\n",
        "    switched=1\n",
        "    continue\n",
        "  if switched:\n",
        "    right_part+=c\n",
        "  else:\n",
        "    left_part+=c\n",
        "\n",
        "\n",
        "if grammar_type==3:\n",
        "  if grammar_subtype==2:\n",
        "    print(\"Regular grammar aligned to left.\")\n",
        "  else:\n",
        "    print(\"Regular grammar aligned to right.\")\n",
        "elif grammar_type==2:\n",
        "  print(\"Context-free grammar.\")\n",
        "elif grammar_type==1:\n",
        "  print(\"Context-sensitive grammar.\")\n",
        "else:\n",
        "  print(\"Type-0 grammar.\")"
      ],
      "metadata": {
        "colab": {
          "base_uri": "https://localhost:8080/"
        },
        "id": "SLn_-9mREJir",
        "outputId": "1c14eb03-b8bd-452e-9a5d-9ef170a7a6a3"
      },
      "execution_count": null,
      "outputs": [
        {
          "output_type": "stream",
          "name": "stdout",
          "text": [
            "Enter grammar: S -> ZaAAcc|ZbBBcc  Z -> ZaAA|ZbBB|ε  AAa -> aAA  BBa -> aBB  AAb -> bAA  BBb -> bBB  AAc -> caG  BBc -> cbJ  Ga -> aG  Ja -> aJ  Gb -> bG  Jb -> bJ  Gc -> ca  Jc -> cb\n",
            "Type-0 grammar.\n"
          ]
        }
      ]
    }
  ]
}