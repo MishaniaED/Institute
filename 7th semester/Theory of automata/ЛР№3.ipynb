{
  "nbformat": 4,
  "nbformat_minor": 0,
  "metadata": {
    "colab": {
      "provenance": []
    },
    "kernelspec": {
      "name": "python3",
      "display_name": "Python 3"
    },
    "language_info": {
      "name": "python"
    }
  },
  "cells": [
    {
      "cell_type": "markdown",
      "source": [
        "Реализовать модель поведения собаки\n",
        "\n",
        "Состояния: p=3\n",
        "\n",
        "  1. Отдыхает\n",
        "  2. Гуляет\n",
        "  3. Ест\n",
        "\n",
        "Команды: n=3\n",
        "\n",
        "  1. Гулять\n",
        "  2. Кушать\n",
        "  3. Отдыхать\n",
        "\n",
        "\n",
        "\n"
      ],
      "metadata": {
        "id": "HcqkpudPJYqw"
      }
    },
    {
      "cell_type": "code",
      "source": [
        "def Action(state, commands_given):\n",
        "  print(\"Начальное состояние: \", state)\n",
        "  for command in commands_given:\n",
        "    if state == \"z1\":\n",
        "      if command == \"Гулять\":\n",
        "          state = \"z2\"\n",
        "          print(\"Выходит из дома и гуляет.    Состояние: \", state)\n",
        "      elif command == \"Отдыхать\":\n",
        "          state = \"z1\"\n",
        "          print(\"Продолжает отдыхать    Состояние: \", state)\n",
        "      else:\n",
        "          state = \"z3\"\n",
        "          print(\"Идет к миске и ест    Состояние: \", state)\n",
        "      continue\n",
        "\n",
        "    if state == \"z2\":\n",
        "      if command == \"Гулять\":\n",
        "          state = \"z2\"\n",
        "          print(\"Продолжает гулять    Состояние: \", state)\n",
        "      else:\n",
        "          state = \"z1\"\n",
        "          print(\"Идет в дом на свое место и отдыхает    Состояние: \", state)\n",
        "      continue\n",
        "\n",
        "    if state == \"z3\":\n",
        "      if command == \"Отдыхать\":\n",
        "          state = \"z1\"\n",
        "          print(\"Идет на свое место и отдыхает    Состояние: \", state)\n",
        "      elif command == \"Кушать\":\n",
        "          state = \"z3\"\n",
        "          print(\"Продолжает есть    Состояние: \", state)\n",
        "      else:\n",
        "          state = \"z2\"\n",
        "          print(\"Выходит из дома и гуляет    Состояние: \", state)\n"
      ],
      "metadata": {
        "id": "6aKQL_O6JfRf"
      },
      "execution_count": null,
      "outputs": []
    },
    {
      "cell_type": "code",
      "source": [],
      "metadata": {
        "id": "GSe2jklQ6uK6"
      },
      "execution_count": null,
      "outputs": []
    },
    {
      "cell_type": "code",
      "source": [
        "\n",
        "comands = [\n",
        "    \"Гулять\", \"\", \"\", \"Отдыхать\", \"Кушать\", \"\"\n",
        "]\n",
        "\n",
        "curr_state =  \"z1\"\n",
        "\n",
        "Action(curr_state, comands)\n",
        "\n"
      ],
      "metadata": {
        "id": "b23rmefl9Y7S",
        "colab": {
          "base_uri": "https://localhost:8080/"
        },
        "outputId": "a9959416-03a4-4f46-a523-7f60988db845"
      },
      "execution_count": null,
      "outputs": [
        {
          "output_type": "stream",
          "name": "stdout",
          "text": [
            "Начальное состояние:  z1\n",
            "Выходит из дома и гуляет.    Состояние:  z2\n",
            "Идет в дом на свое место и отдыхает    Состояние:  z1\n",
            "Идет к миске и ест    Состояние:  z3\n",
            "Идет на свое место и отдыхает    Состояние:  z1\n",
            "Идет к миске и ест    Состояние:  z3\n",
            "Выходит из дома и гуляет    Состояние:  z2\n"
          ]
        }
      ]
    },
    {
      "cell_type": "code",
      "source": [],
      "metadata": {
        "id": "zagubkYf2nSc"
      },
      "execution_count": null,
      "outputs": []
    }
  ]
}